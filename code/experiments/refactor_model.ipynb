{
 "cells": [
  {
   "cell_type": "code",
   "execution_count": 1,
   "metadata": {},
   "outputs": [
    {
     "name": "stdout",
     "output_type": "stream",
     "text": [
      "Using MPS (Apple Silicon GPU)\n"
     ]
    }
   ],
   "source": [
    "from fastai.vision.all import *\n",
    "from pathlib import Path\n",
    "import os, sys\n",
    "sys.path.append(os.path.abspath('..'))# Add parent directory to path\n",
    "\n",
    "from refactor_experiments import getDatasets, getData, random_seed\n",
    "from refactor_losses import MixedLoss\n",
    "from refactor_metrics import MetricsCallback, getDatasetMetrics\n",
    "from fastai.callback.all import CSVLogger, SaveModelCallback\n",
    "from config import *\n",
    "\n",
    "sys.path.append('../../text-segmentation')\n",
    "\n",
    "# from models.text_segmentation import TextSegament, XceptionTextSegment\n",
    "\n",
    "import torch\n",
    "# torch.cuda.set_device(0)\n",
    "if torch.backends.mps.is_available():\n",
    "    device = torch.device(\"mps\")\n",
    "    print(\"Using MPS (Apple Silicon GPU)\")\n",
    "else:\n",
    "    device = torch.device(\"cpu\")\n",
    "    print(\"Using CPU\")"
   ]
  },
  {
   "cell_type": "code",
   "execution_count": 2,
   "metadata": {},
   "outputs": [],
   "source": [
    "EXPERIMENT_PATH = Path(EXPERIMENTS_PATH) / 'model'\n",
    "MODELS_PATH = EXPERIMENT_PATH / \"models\"\n",
    "os.makedirs(MODELS_PATH, exist_ok=True)\n",
    "\n"
   ]
  },
  {
   "cell_type": "code",
   "execution_count": 3,
   "metadata": {},
   "outputs": [
    {
     "name": "stdout",
     "output_type": "stream",
     "text": [
      "450\n"
     ]
    }
   ],
   "source": [
    "allData = getData()\n",
    "print(len(allData))\n",
    "datasets = getDatasets(allData)  # This returns a list of DataLoaders (one per fold)"
   ]
  },
  {
   "cell_type": "code",
   "execution_count": 4,
   "metadata": {},
   "outputs": [],
   "source": [
    "props = {'bs': 4, 'val_bs': 2, 'num_workers': 0}\n",
    "modelDict = {'resnet34': models.resnet34,}\n",
    "propsOverride = {\n",
    "    # 'xception': {'bs': 2},\n",
    "    # 'segament': {'bs': 2}\n",
    "}"
   ]
  },
  {
   "cell_type": "code",
   "execution_count": 11,
   "metadata": {
    "scrolled": false
   },
   "outputs": [
    {
     "name": "stdout",
     "output_type": "stream",
     "text": [
      "dls.metrics: None\n",
      "learn.metrics: [<fastai.learner.AvgMetric object at 0x303479a90>]\n",
      "learn.recorder.metric_names: None\n"
     ]
    },
    {
     "ename": "TypeError",
     "evalue": "Exception occured in `CSVLogger` when calling event `before_fit`:\n\tsequence item 3: expected str instance, NoneType found",
     "output_type": "error",
     "traceback": [
      "\u001b[31m---------------------------------------------------------------------------\u001b[39m",
      "\u001b[31mTypeError\u001b[39m                                 Traceback (most recent call last)",
      "\u001b[36mCell\u001b[39m\u001b[36m \u001b[39m\u001b[32mIn[11]\u001b[39m\u001b[32m, line 23\u001b[39m\n\u001b[32m     21\u001b[39m \u001b[38;5;28mprint\u001b[39m(\u001b[33m\"\u001b[39m\u001b[33mlearn.metrics:\u001b[39m\u001b[33m\"\u001b[39m, \u001b[38;5;28mgetattr\u001b[39m(learn, \u001b[33m'\u001b[39m\u001b[33mmetrics\u001b[39m\u001b[33m'\u001b[39m, \u001b[38;5;28;01mNone\u001b[39;00m))\n\u001b[32m     22\u001b[39m \u001b[38;5;28mprint\u001b[39m(\u001b[33m\"\u001b[39m\u001b[33mlearn.recorder.metric_names:\u001b[39m\u001b[33m\"\u001b[39m, \u001b[38;5;28mgetattr\u001b[39m(learn.recorder, \u001b[33m'\u001b[39m\u001b[33mmetric_names\u001b[39m\u001b[33m'\u001b[39m, \u001b[38;5;28;01mNone\u001b[39;00m))\n\u001b[32m---> \u001b[39m\u001b[32m23\u001b[39m \u001b[43mlearn\u001b[49m\u001b[43m.\u001b[49m\u001b[43mfit_one_cycle\u001b[49m\u001b[43m(\u001b[49m\u001b[32;43m10\u001b[39;49m\u001b[43m,\u001b[49m\u001b[43m \u001b[49m\u001b[32;43m1e-4\u001b[39;49m\u001b[43m)\u001b[49m\n\u001b[32m     24\u001b[39m learn.save(\u001b[33m'\u001b[39m\u001b[33mmodel\u001b[39m\u001b[33m'\u001b[39m)\n\u001b[32m     25\u001b[39m learn.export(\u001b[33m'\u001b[39m\u001b[33mfinal_model.pkl\u001b[39m\u001b[33m'\u001b[39m)\n",
      "\u001b[36mFile \u001b[39m\u001b[32m/opt/anaconda3/envs/MTS/lib/python3.11/site-packages/fastai/callback/schedule.py:121\u001b[39m, in \u001b[36mfit_one_cycle\u001b[39m\u001b[34m(self, n_epoch, lr_max, div, div_final, pct_start, wd, moms, cbs, reset_opt, start_epoch)\u001b[39m\n\u001b[32m    118\u001b[39m lr_max = np.array([h[\u001b[33m'\u001b[39m\u001b[33mlr\u001b[39m\u001b[33m'\u001b[39m] \u001b[38;5;28;01mfor\u001b[39;00m h \u001b[38;5;129;01min\u001b[39;00m \u001b[38;5;28mself\u001b[39m.opt.hypers])\n\u001b[32m    119\u001b[39m scheds = {\u001b[33m'\u001b[39m\u001b[33mlr\u001b[39m\u001b[33m'\u001b[39m: combined_cos(pct_start, lr_max/div, lr_max, lr_max/div_final),\n\u001b[32m    120\u001b[39m           \u001b[33m'\u001b[39m\u001b[33mmom\u001b[39m\u001b[33m'\u001b[39m: combined_cos(pct_start, *(\u001b[38;5;28mself\u001b[39m.moms \u001b[38;5;28;01mif\u001b[39;00m moms \u001b[38;5;129;01mis\u001b[39;00m \u001b[38;5;28;01mNone\u001b[39;00m \u001b[38;5;28;01melse\u001b[39;00m moms))}\n\u001b[32m--> \u001b[39m\u001b[32m121\u001b[39m \u001b[38;5;28;43mself\u001b[39;49m\u001b[43m.\u001b[49m\u001b[43mfit\u001b[49m\u001b[43m(\u001b[49m\u001b[43mn_epoch\u001b[49m\u001b[43m,\u001b[49m\u001b[43m \u001b[49m\u001b[43mcbs\u001b[49m\u001b[43m=\u001b[49m\u001b[43mParamScheduler\u001b[49m\u001b[43m(\u001b[49m\u001b[43mscheds\u001b[49m\u001b[43m)\u001b[49m\u001b[43m+\u001b[49m\u001b[43mL\u001b[49m\u001b[43m(\u001b[49m\u001b[43mcbs\u001b[49m\u001b[43m)\u001b[49m\u001b[43m,\u001b[49m\u001b[43m \u001b[49m\u001b[43mreset_opt\u001b[49m\u001b[43m=\u001b[49m\u001b[43mreset_opt\u001b[49m\u001b[43m,\u001b[49m\u001b[43m \u001b[49m\u001b[43mwd\u001b[49m\u001b[43m=\u001b[49m\u001b[43mwd\u001b[49m\u001b[43m,\u001b[49m\u001b[43m \u001b[49m\u001b[43mstart_epoch\u001b[49m\u001b[43m=\u001b[49m\u001b[43mstart_epoch\u001b[49m\u001b[43m)\u001b[49m\n",
      "\u001b[36mFile \u001b[39m\u001b[32m/opt/anaconda3/envs/MTS/lib/python3.11/site-packages/fastai/learner.py:272\u001b[39m, in \u001b[36mLearner.fit\u001b[39m\u001b[34m(self, n_epoch, lr, wd, cbs, reset_opt, start_epoch)\u001b[39m\n\u001b[32m    270\u001b[39m \u001b[38;5;28mself\u001b[39m.opt.set_hypers(lr=\u001b[38;5;28mself\u001b[39m.lr \u001b[38;5;28;01mif\u001b[39;00m lr \u001b[38;5;129;01mis\u001b[39;00m \u001b[38;5;28;01mNone\u001b[39;00m \u001b[38;5;28;01melse\u001b[39;00m lr)\n\u001b[32m    271\u001b[39m \u001b[38;5;28mself\u001b[39m.n_epoch = n_epoch\n\u001b[32m--> \u001b[39m\u001b[32m272\u001b[39m \u001b[38;5;28;43mself\u001b[39;49m\u001b[43m.\u001b[49m\u001b[43m_with_events\u001b[49m\u001b[43m(\u001b[49m\u001b[38;5;28;43mself\u001b[39;49m\u001b[43m.\u001b[49m\u001b[43m_do_fit\u001b[49m\u001b[43m,\u001b[49m\u001b[43m \u001b[49m\u001b[33;43m'\u001b[39;49m\u001b[33;43mfit\u001b[39;49m\u001b[33;43m'\u001b[39;49m\u001b[43m,\u001b[49m\u001b[43m \u001b[49m\u001b[43mCancelFitException\u001b[49m\u001b[43m,\u001b[49m\u001b[43m \u001b[49m\u001b[38;5;28;43mself\u001b[39;49m\u001b[43m.\u001b[49m\u001b[43m_end_cleanup\u001b[49m\u001b[43m)\u001b[49m\n",
      "\u001b[36mFile \u001b[39m\u001b[32m/opt/anaconda3/envs/MTS/lib/python3.11/site-packages/fastai/learner.py:207\u001b[39m, in \u001b[36mLearner._with_events\u001b[39m\u001b[34m(self, f, event_type, ex, final)\u001b[39m\n\u001b[32m    206\u001b[39m \u001b[38;5;28;01mdef\u001b[39;00m\u001b[38;5;250m \u001b[39m\u001b[34m_with_events\u001b[39m(\u001b[38;5;28mself\u001b[39m, f, event_type, ex, final=noop):\n\u001b[32m--> \u001b[39m\u001b[32m207\u001b[39m     \u001b[38;5;28;01mtry\u001b[39;00m: \u001b[38;5;28;43mself\u001b[39;49m\u001b[43m(\u001b[49m\u001b[33;43mf\u001b[39;49m\u001b[33;43m'\u001b[39;49m\u001b[33;43mbefore_\u001b[39;49m\u001b[38;5;132;43;01m{\u001b[39;49;00m\u001b[43mevent_type\u001b[49m\u001b[38;5;132;43;01m}\u001b[39;49;00m\u001b[33;43m'\u001b[39;49m\u001b[43m)\u001b[49m;  f()\n\u001b[32m    208\u001b[39m     \u001b[38;5;28;01mexcept\u001b[39;00m ex: \u001b[38;5;28mself\u001b[39m(\u001b[33mf\u001b[39m\u001b[33m'\u001b[39m\u001b[33mafter_cancel_\u001b[39m\u001b[38;5;132;01m{\u001b[39;00mevent_type\u001b[38;5;132;01m}\u001b[39;00m\u001b[33m'\u001b[39m)\n\u001b[32m    209\u001b[39m     \u001b[38;5;28mself\u001b[39m(\u001b[33mf\u001b[39m\u001b[33m'\u001b[39m\u001b[33mafter_\u001b[39m\u001b[38;5;132;01m{\u001b[39;00mevent_type\u001b[38;5;132;01m}\u001b[39;00m\u001b[33m'\u001b[39m);  final()\n",
      "\u001b[36mFile \u001b[39m\u001b[32m/opt/anaconda3/envs/MTS/lib/python3.11/site-packages/fastai/learner.py:180\u001b[39m, in \u001b[36mLearner.__call__\u001b[39m\u001b[34m(self, event_name)\u001b[39m\n\u001b[32m--> \u001b[39m\u001b[32m180\u001b[39m \u001b[38;5;28;01mdef\u001b[39;00m\u001b[38;5;250m \u001b[39m\u001b[34m__call__\u001b[39m(\u001b[38;5;28mself\u001b[39m, event_name): \u001b[43mL\u001b[49m\u001b[43m(\u001b[49m\u001b[43mevent_name\u001b[49m\u001b[43m)\u001b[49m\u001b[43m.\u001b[49m\u001b[43mmap\u001b[49m\u001b[43m(\u001b[49m\u001b[38;5;28;43mself\u001b[39;49m\u001b[43m.\u001b[49m\u001b[43m_call_one\u001b[49m\u001b[43m)\u001b[49m\n",
      "\u001b[36mFile \u001b[39m\u001b[32m/opt/anaconda3/envs/MTS/lib/python3.11/site-packages/fastcore/foundation.py:163\u001b[39m, in \u001b[36mL.map\u001b[39m\u001b[34m(self, f, *args, **kwargs)\u001b[39m\n\u001b[32m--> \u001b[39m\u001b[32m163\u001b[39m \u001b[38;5;28;01mdef\u001b[39;00m\u001b[38;5;250m \u001b[39m\u001b[34mmap\u001b[39m(\u001b[38;5;28mself\u001b[39m, f, *args, **kwargs): \u001b[38;5;28;01mreturn\u001b[39;00m \u001b[38;5;28mself\u001b[39m._new(\u001b[43mmap_ex\u001b[49m\u001b[43m(\u001b[49m\u001b[38;5;28;43mself\u001b[39;49m\u001b[43m,\u001b[49m\u001b[43m \u001b[49m\u001b[43mf\u001b[49m\u001b[43m,\u001b[49m\u001b[43m \u001b[49m\u001b[43m*\u001b[49m\u001b[43margs\u001b[49m\u001b[43m,\u001b[49m\u001b[43m \u001b[49m\u001b[43mgen\u001b[49m\u001b[43m=\u001b[49m\u001b[38;5;28;43;01mFalse\u001b[39;49;00m\u001b[43m,\u001b[49m\u001b[43m \u001b[49m\u001b[43m*\u001b[49m\u001b[43m*\u001b[49m\u001b[43mkwargs\u001b[49m\u001b[43m)\u001b[49m)\n",
      "\u001b[36mFile \u001b[39m\u001b[32m/opt/anaconda3/envs/MTS/lib/python3.11/site-packages/fastcore/basics.py:934\u001b[39m, in \u001b[36mmap_ex\u001b[39m\u001b[34m(iterable, f, gen, *args, **kwargs)\u001b[39m\n\u001b[32m    932\u001b[39m res = \u001b[38;5;28mmap\u001b[39m(g, iterable)\n\u001b[32m    933\u001b[39m \u001b[38;5;28;01mif\u001b[39;00m gen: \u001b[38;5;28;01mreturn\u001b[39;00m res\n\u001b[32m--> \u001b[39m\u001b[32m934\u001b[39m \u001b[38;5;28;01mreturn\u001b[39;00m \u001b[38;5;28mlist\u001b[39m(res)\n",
      "\u001b[36mFile \u001b[39m\u001b[32m/opt/anaconda3/envs/MTS/lib/python3.11/site-packages/fastcore/basics.py:919\u001b[39m, in \u001b[36mbind.__call__\u001b[39m\u001b[34m(self, *args, **kwargs)\u001b[39m\n\u001b[32m    917\u001b[39m     \u001b[38;5;28;01mif\u001b[39;00m \u001b[38;5;28misinstance\u001b[39m(v,_Arg): kwargs[k] = args.pop(v.i)\n\u001b[32m    918\u001b[39m fargs = [args[x.i] \u001b[38;5;28;01mif\u001b[39;00m \u001b[38;5;28misinstance\u001b[39m(x, _Arg) \u001b[38;5;28;01melse\u001b[39;00m x \u001b[38;5;28;01mfor\u001b[39;00m x \u001b[38;5;129;01min\u001b[39;00m \u001b[38;5;28mself\u001b[39m.pargs] + args[\u001b[38;5;28mself\u001b[39m.maxi+\u001b[32m1\u001b[39m:]\n\u001b[32m--> \u001b[39m\u001b[32m919\u001b[39m \u001b[38;5;28;01mreturn\u001b[39;00m \u001b[38;5;28;43mself\u001b[39;49m\u001b[43m.\u001b[49m\u001b[43mfunc\u001b[49m\u001b[43m(\u001b[49m\u001b[43m*\u001b[49m\u001b[43mfargs\u001b[49m\u001b[43m,\u001b[49m\u001b[43m \u001b[49m\u001b[43m*\u001b[49m\u001b[43m*\u001b[49m\u001b[43mkwargs\u001b[49m\u001b[43m)\u001b[49m\n",
      "\u001b[36mFile \u001b[39m\u001b[32m/opt/anaconda3/envs/MTS/lib/python3.11/site-packages/fastai/learner.py:184\u001b[39m, in \u001b[36mLearner._call_one\u001b[39m\u001b[34m(self, event_name)\u001b[39m\n\u001b[32m    182\u001b[39m \u001b[38;5;28;01mdef\u001b[39;00m\u001b[38;5;250m \u001b[39m\u001b[34m_call_one\u001b[39m(\u001b[38;5;28mself\u001b[39m, event_name):\n\u001b[32m    183\u001b[39m     \u001b[38;5;28;01mif\u001b[39;00m \u001b[38;5;129;01mnot\u001b[39;00m \u001b[38;5;28mhasattr\u001b[39m(event, event_name): \u001b[38;5;28;01mraise\u001b[39;00m \u001b[38;5;167;01mException\u001b[39;00m(\u001b[33mf\u001b[39m\u001b[33m'\u001b[39m\u001b[33mmissing \u001b[39m\u001b[38;5;132;01m{\u001b[39;00mevent_name\u001b[38;5;132;01m}\u001b[39;00m\u001b[33m'\u001b[39m)\n\u001b[32m--> \u001b[39m\u001b[32m184\u001b[39m     \u001b[38;5;28;01mfor\u001b[39;00m cb \u001b[38;5;129;01min\u001b[39;00m \u001b[38;5;28mself\u001b[39m.cbs.sorted(\u001b[33m'\u001b[39m\u001b[33morder\u001b[39m\u001b[33m'\u001b[39m): \u001b[43mcb\u001b[49m\u001b[43m(\u001b[49m\u001b[43mevent_name\u001b[49m\u001b[43m)\u001b[49m\n",
      "\u001b[36mFile \u001b[39m\u001b[32m/opt/anaconda3/envs/MTS/lib/python3.11/site-packages/fastai/callback/core.py:64\u001b[39m, in \u001b[36mCallback.__call__\u001b[39m\u001b[34m(self, event_name)\u001b[39m\n\u001b[32m     62\u001b[39m     \u001b[38;5;28;01mtry\u001b[39;00m: res = getcallable(\u001b[38;5;28mself\u001b[39m, event_name)()\n\u001b[32m     63\u001b[39m     \u001b[38;5;28;01mexcept\u001b[39;00m (CancelBatchException, CancelBackwardException, CancelEpochException, CancelFitException, CancelStepException, CancelTrainException, CancelValidException): \u001b[38;5;28;01mraise\u001b[39;00m\n\u001b[32m---> \u001b[39m\u001b[32m64\u001b[39m     \u001b[38;5;28;01mexcept\u001b[39;00m \u001b[38;5;167;01mException\u001b[39;00m \u001b[38;5;28;01mas\u001b[39;00m e: \u001b[38;5;28;01mraise\u001b[39;00m modify_exception(e, \u001b[33mf\u001b[39m\u001b[33m'\u001b[39m\u001b[33mException occured in `\u001b[39m\u001b[38;5;132;01m{\u001b[39;00m\u001b[38;5;28mself\u001b[39m.\u001b[34m__class__\u001b[39m.\u001b[34m__name__\u001b[39m\u001b[38;5;132;01m}\u001b[39;00m\u001b[33m` when calling event `\u001b[39m\u001b[38;5;132;01m{\u001b[39;00mevent_name\u001b[38;5;132;01m}\u001b[39;00m\u001b[33m`:\u001b[39m\u001b[38;5;130;01m\\n\u001b[39;00m\u001b[38;5;130;01m\\t\u001b[39;00m\u001b[38;5;132;01m{\u001b[39;00me.args[\u001b[32m0\u001b[39m]\u001b[38;5;132;01m}\u001b[39;00m\u001b[33m'\u001b[39m, replace=\u001b[38;5;28;01mTrue\u001b[39;00m)\n\u001b[32m     65\u001b[39m \u001b[38;5;28;01mif\u001b[39;00m event_name==\u001b[33m'\u001b[39m\u001b[33mafter_fit\u001b[39m\u001b[33m'\u001b[39m: \u001b[38;5;28mself\u001b[39m.run=\u001b[38;5;28;01mTrue\u001b[39;00m \u001b[38;5;66;03m#Reset self.run to True at each end of fit\u001b[39;00m\n\u001b[32m     66\u001b[39m \u001b[38;5;28;01mreturn\u001b[39;00m res\n",
      "\u001b[36mFile \u001b[39m\u001b[32m/opt/anaconda3/envs/MTS/lib/python3.11/site-packages/fastai/callback/core.py:62\u001b[39m, in \u001b[36mCallback.__call__\u001b[39m\u001b[34m(self, event_name)\u001b[39m\n\u001b[32m     60\u001b[39m res = \u001b[38;5;28;01mNone\u001b[39;00m\n\u001b[32m     61\u001b[39m \u001b[38;5;28;01mif\u001b[39;00m \u001b[38;5;28mself\u001b[39m.run \u001b[38;5;129;01mand\u001b[39;00m _run: \n\u001b[32m---> \u001b[39m\u001b[32m62\u001b[39m     \u001b[38;5;28;01mtry\u001b[39;00m: res = \u001b[43mgetcallable\u001b[49m\u001b[43m(\u001b[49m\u001b[38;5;28;43mself\u001b[39;49m\u001b[43m,\u001b[49m\u001b[43m \u001b[49m\u001b[43mevent_name\u001b[49m\u001b[43m)\u001b[49m\u001b[43m(\u001b[49m\u001b[43m)\u001b[49m\n\u001b[32m     63\u001b[39m     \u001b[38;5;28;01mexcept\u001b[39;00m (CancelBatchException, CancelBackwardException, CancelEpochException, CancelFitException, CancelStepException, CancelTrainException, CancelValidException): \u001b[38;5;28;01mraise\u001b[39;00m\n\u001b[32m     64\u001b[39m     \u001b[38;5;28;01mexcept\u001b[39;00m \u001b[38;5;167;01mException\u001b[39;00m \u001b[38;5;28;01mas\u001b[39;00m e: \u001b[38;5;28;01mraise\u001b[39;00m modify_exception(e, \u001b[33mf\u001b[39m\u001b[33m'\u001b[39m\u001b[33mException occured in `\u001b[39m\u001b[38;5;132;01m{\u001b[39;00m\u001b[38;5;28mself\u001b[39m.\u001b[34m__class__\u001b[39m.\u001b[34m__name__\u001b[39m\u001b[38;5;132;01m}\u001b[39;00m\u001b[33m` when calling event `\u001b[39m\u001b[38;5;132;01m{\u001b[39;00mevent_name\u001b[38;5;132;01m}\u001b[39;00m\u001b[33m`:\u001b[39m\u001b[38;5;130;01m\\n\u001b[39;00m\u001b[38;5;130;01m\\t\u001b[39;00m\u001b[38;5;132;01m{\u001b[39;00me.args[\u001b[32m0\u001b[39m]\u001b[38;5;132;01m}\u001b[39;00m\u001b[33m'\u001b[39m, replace=\u001b[38;5;28;01mTrue\u001b[39;00m)\n",
      "\u001b[36mFile \u001b[39m\u001b[32m/opt/anaconda3/envs/MTS/lib/python3.11/site-packages/fastai/callback/progress.py:112\u001b[39m, in \u001b[36mCSVLogger.before_fit\u001b[39m\u001b[34m(self)\u001b[39m\n\u001b[32m    110\u001b[39m \u001b[38;5;28mself\u001b[39m.path.parent.mkdir(parents=\u001b[38;5;28;01mTrue\u001b[39;00m, exist_ok=\u001b[38;5;28;01mTrue\u001b[39;00m)\n\u001b[32m    111\u001b[39m \u001b[38;5;28mself\u001b[39m.file = (\u001b[38;5;28mself\u001b[39m.path/\u001b[38;5;28mself\u001b[39m.fname).open(\u001b[33m'\u001b[39m\u001b[33ma\u001b[39m\u001b[33m'\u001b[39m \u001b[38;5;28;01mif\u001b[39;00m \u001b[38;5;28mself\u001b[39m.append \u001b[38;5;28;01melse\u001b[39;00m \u001b[33m'\u001b[39m\u001b[33mw\u001b[39m\u001b[33m'\u001b[39m)\n\u001b[32m--> \u001b[39m\u001b[32m112\u001b[39m \u001b[38;5;28mself\u001b[39m.file.write(\u001b[33;43m'\u001b[39;49m\u001b[33;43m,\u001b[39;49m\u001b[33;43m'\u001b[39;49m\u001b[43m.\u001b[49m\u001b[43mjoin\u001b[49m\u001b[43m(\u001b[49m\u001b[38;5;28;43mself\u001b[39;49m\u001b[43m.\u001b[49m\u001b[43mrecorder\u001b[49m\u001b[43m.\u001b[49m\u001b[43mmetric_names\u001b[49m\u001b[43m)\u001b[49m + \u001b[33m'\u001b[39m\u001b[38;5;130;01m\\n\u001b[39;00m\u001b[33m'\u001b[39m)\n\u001b[32m    113\u001b[39m \u001b[38;5;28mself\u001b[39m.old_logger,\u001b[38;5;28mself\u001b[39m.learn.logger = \u001b[38;5;28mself\u001b[39m.logger,\u001b[38;5;28mself\u001b[39m._write_line\n",
      "\u001b[31mTypeError\u001b[39m: Exception occured in `CSVLogger` when calling event `before_fit`:\n\tsequence item 3: expected str instance, NoneType found"
     ]
    }
   ],
   "source": [
    "for name, model_func in modelDict.items():\n",
    "    for index, dls in enumerate(datasets):\n",
    "        PATH = EXPERIMENT_PATH / name / str(index)\n",
    "        PATH.mkdir(parents=True, exist_ok=True)\n",
    "        if not (PATH / 'final_model.pth').exists():\n",
    "            overrides = propsOverride.get(name, {})\n",
    "            random_seed(42)\n",
    "            print(\"dls.metrics:\", getattr(dls, 'metrics', None))\n",
    "            # dls is already a DataLoaders object\n",
    "            learn = unet_learner(\n",
    "                dls, model_func, \n",
    "                model_dir='models', \n",
    "                loss_func=MixedLoss(0, 1), \n",
    "                metrics=Dice(),\n",
    "                cbs=[MetricsCallback(), CSVLogger()], \n",
    "                # cbs=[MetricsCallback()], \n",
    "                path=PATH\n",
    "            )\n",
    "            learn.model.to(device)\n",
    "            random_seed(42)\n",
    "            print(\"learn.metrics:\", getattr(learn, 'metrics', None))\n",
    "            print(\"learn.recorder.metric_names:\", getattr(learn.recorder, 'metric_names', None))\n",
    "            learn.fit_one_cycle(10, 1e-4)\n",
    "            learn.save('model')\n",
    "            learn.export('final_model.pkl')\n",
    "            \n",
    "for name, model_func in modelDict.items():\n",
    "    for index, dls in enumerate(getDatasets(allData, crop=False, cutInHalf=False)):\n",
    "        PATH = EXPERIMENT_PATH / name / str(index)\n",
    "        if not (PATH / 'final_predictions.csv').exists():\n",
    "            learn = load_learner(PATH, fname='final_model.pkl')\n",
    "            random_seed(42)\n",
    "            m = getDatasetMetrics(dls, learn)\n",
    "            m.save(PATH / 'final_predictions.csv')"
   ]
  },
  {
   "cell_type": "code",
   "execution_count": null,
   "metadata": {
    "scrolled": true
   },
   "outputs": [],
   "source": [
    "# import segmentation_models_pytorch as smp\n",
    "\n",
    "# props = {'bs': 4, 'val_bs': 2, 'num_workers': 0}\n",
    "# models = ['resnet50', 'dpn68', 'vgg16', 'densenet169', 'efficientnet-b4']\n",
    "# propsOverride = {}\n",
    "# archs = [smp.Unet, smp.Linknet, smp.FPN, smp.PSPNet, smp.PAN]\n",
    "# for arch in archs:\n",
    "#     for model in models:\n",
    "#         if model in ['vgg16', 'densenet169'] and smp.PAN == arch: #not supported\n",
    "#             continue\n",
    "#         for index, dataset in enumerate(getDatasets(allData, padding = 16)):\n",
    "#             PATH = EXPERIMENT_PATH / (model + ' ' + arch.__name__) / str(index) \n",
    "#             if not (PATH / 'final model.pkl').exists():\n",
    "#                 overrides = {} if model not in propsOverride else propsOverride[model]\n",
    "#                 random_seed(42)\n",
    "#                 data = dataset.databunch(**{**props, **overrides}).normalize(imagenet_stats)\n",
    "#                 random_seed(42)\n",
    "#                 learn = Learner(data, arch(model, encoder_weights='imagenet'), callback_fns=[MetricsCallback, CSVLogger, partial(SaveModelCallback, monitor=\"ignore global f1 score %\")], model_dir='models', loss_func=MixedLoss(0, 1), path=PATH)\n",
    "#                 random_seed(42)\n",
    "#                 #freeze encoder, still not implemented in smp\n",
    "#                 if hasattr(learn.model, 'reset'): learn.model.reset()\n",
    "#                 for l in flatten_model(learn.model.encoder):\n",
    "#                     requires_grad(l, isinstance(l, bn_types))\n",
    "#                 learn.create_opt(defaults.lr)\n",
    "#                 random_seed(42)\n",
    "#                 learn.fit_one_cycle(10, 1e-4)\n",
    "#                 learn.save('model')\n",
    "#                 learn.export(file='final model.pkl')\n",
    "#         for index, dataset in enumerate(getDatasets(allData, crop=False, cutInHalf=False, padding = 16)):\n",
    "#             PATH = EXPERIMENT_PATH / (model + ' ' + arch.__name__) / str(index) \n",
    "#             if not (PATH / 'final predictions.csv').exists():\n",
    "#                 learn = load_learner(PATH, 'final model.pkl')\n",
    "#                 random_seed(42)\n",
    "#                 m = getDatasetMetrics(dataset, learn)\n",
    "#                 m.save(PATH / 'final predictions.csv')                "
   ]
  },
  {
   "cell_type": "code",
   "execution_count": null,
   "metadata": {},
   "outputs": [],
   "source": [
    "# PATH = EXPERIMENT_PATH / 'xception'  \n",
    "# for index, dataset in enumerate(getDatasets(allData, crop=False, cutInHalf = False)):\n",
    "#     learn = load_learner(PATH / str(index)  , 'final model.pkl')\n",
    "\n",
    "#     for idx in range(len(dataset.valid.x.items)):\n",
    "#         img = dataset.valid.x.items[idx]\n",
    "#         TENSOR_PATH = PATH / 'predictions' / img.parent.name / img.name.replace(path.suffix, '.pt')\n",
    "#         (PATH / 'predictions' / img.parent.name).mkdir(parents=True, exist_ok=True) \n",
    "#         if not (TENSOR_PATH).exists():\n",
    "#             pred = learn.predict(dataset.valid.x.get(idx, False))[2]\n",
    "#             torch.save(pred, TENSOR_PATH)   "
   ]
  }
 ],
 "metadata": {
  "kernelspec": {
   "display_name": "MTS",
   "language": "python",
   "name": "python3"
  },
  "language_info": {
   "codemirror_mode": {
    "name": "ipython",
    "version": 3
   },
   "file_extension": ".py",
   "mimetype": "text/x-python",
   "name": "python",
   "nbconvert_exporter": "python",
   "pygments_lexer": "ipython3",
   "version": "3.11.13"
  }
 },
 "nbformat": 4,
 "nbformat_minor": 2
}
